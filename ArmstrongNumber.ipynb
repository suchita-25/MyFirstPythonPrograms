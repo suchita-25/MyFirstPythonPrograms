{
 "cells": [
  {
   "cell_type": "code",
   "execution_count": 1,
   "id": "civic-bristol",
   "metadata": {},
   "outputs": [
    {
     "name": "stdout",
     "output_type": "stream",
     "text": [
      "Range Begins1\n",
      "Range Ends100000\n",
      "The number 1 is armstrong number\n",
      "The number 2 is armstrong number\n",
      "The number 3 is armstrong number\n",
      "The number 4 is armstrong number\n",
      "The number 5 is armstrong number\n",
      "The number 6 is armstrong number\n",
      "The number 7 is armstrong number\n",
      "The number 8 is armstrong number\n",
      "The number 9 is armstrong number\n",
      "The number 25 is armstrong number\n",
      "The number 36 is armstrong number\n",
      "The number 125 is armstrong number\n",
      "The number 153 is armstrong number\n",
      "The number 216 is armstrong number\n",
      "The number 370 is armstrong number\n",
      "The number 371 is armstrong number\n",
      "The number 407 is armstrong number\n",
      "The number 729 is armstrong number\n",
      "The number 1296 is armstrong number\n",
      "The number 1634 is armstrong number\n",
      "The number 5648 is armstrong number\n",
      "The number 8208 is armstrong number\n",
      "The number 9474 is armstrong number\n",
      "The number 16807 is armstrong number\n",
      "The number 16807 is armstrong number\n",
      "The number 32768 is armstrong number\n",
      "The number 32800 is armstrong number\n",
      "The number 32801 is armstrong number\n",
      "The number 33824 is armstrong number\n",
      "The number 54748 is armstrong number\n",
      "The number 59049 is armstrong number\n",
      "The number 91819 is armstrong number\n",
      "The number 92727 is armstrong number\n",
      "The number 93084 is armstrong number\n",
      "The number 99836 is armstrong number\n"
     ]
    }
   ],
   "source": [
    "x=int(input(\"Range Begins\")) ##Enter the range\n",
    "y=int(input(\"Range Ends\"))\n",
    "\n",
    "for i in range(x,y): #For loop\n",
    "    num=i           # Saving the value of i in 'num'variable\n",
    "    nsum=0          #initializing nsum to zero\n",
    "\n",
    "    l=len(str(i))   # Get the number of digits\n",
    "\n",
    "    for digit in range(l) : # This loop will iterate times the number of digits\n",
    "        j=int(i)%10        #mod -- gives remainder\n",
    "  \n",
    "        nsum=nsum+int(j)**l\n",
    "    \n",
    "        i=int(i)//10        #truncate division -- \n",
    "     \n",
    "\n",
    "        if int(num) == nsum:  #if the original number equals the sum, it's armstrong number.\n",
    "            print(f\"The number {num} is armstrong number\")\n",
    "      \n",
    "        "
   ]
  },
  {
   "cell_type": "code",
   "execution_count": null,
   "id": "hawaiian-russell",
   "metadata": {},
   "outputs": [],
   "source": []
  }
 ],
 "metadata": {
  "kernelspec": {
   "display_name": "Python 3",
   "language": "python",
   "name": "python3"
  },
  "language_info": {
   "codemirror_mode": {
    "name": "ipython",
    "version": 3
   },
   "file_extension": ".py",
   "mimetype": "text/x-python",
   "name": "python",
   "nbconvert_exporter": "python",
   "pygments_lexer": "ipython3",
   "version": "3.9.1"
  }
 },
 "nbformat": 4,
 "nbformat_minor": 5
}
